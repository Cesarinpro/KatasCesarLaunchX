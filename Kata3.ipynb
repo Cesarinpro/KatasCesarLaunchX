{
 "cells": [
  {
   "cell_type": "markdown",
   "metadata": {},
   "source": [
    "### Ejercicio 1 - Velocidad de un asteroide a la Tierra"
   ]
  },
  {
   "cell_type": "code",
   "execution_count": 3,
   "metadata": {},
   "outputs": [
    {
     "name": "stdout",
     "output_type": "stream",
     "text": [
      "ADVERTENCIA un asteroide se acerca demasiado rapido a la Tierra\n"
     ]
    }
   ],
   "source": [
    "asteroide= 49\n",
    "if asteroide>25:\n",
    "    print(\"ADVERTENCIA un asteroide se acerca demasiado rapido a la Tierra\")\n",
    "else:\n",
    "    print(\"Estamos a salvo de asteroides\")"
   ]
  },
  {
   "cell_type": "markdown",
   "metadata": {},
   "source": [
    "### Ejercicio 2 - Asteroide en el cielo"
   ]
  },
  {
   "cell_type": "code",
   "execution_count": 4,
   "metadata": {},
   "outputs": [
    {
     "name": "stdout",
     "output_type": "stream",
     "text": [
      "No hay asteroides cerca de la Tierra\n"
     ]
    }
   ],
   "source": [
    "asteroide2=19\n",
    "if asteroide2==20:\n",
    "    print(\"¡Hay uno que se dirige a la tierra ahora a una velocidad de \"+ str(asteroide2))\n",
    "elif asteroide2>20:\n",
    "    print(\"¡Hay uno que se dirige a la tierra ahora a una velocidad de \"+ str(asteroide2))\n",
    "else:\n",
    "    print(\"No hay asteroides cerca de la Tierra\")"
   ]
  },
  {
   "cell_type": "markdown",
   "metadata": {},
   "source": [
    "### Ejercicio 3 - Velocidad y Tamaño del asteroide"
   ]
  },
  {
   "cell_type": "code",
   "execution_count": null,
   "metadata": {},
   "outputs": [],
   "source": [
    "velocidad_ast=25\n",
    "tamast=30\n",
    "if tamast>25 and velocidad_ast >25:\n",
    "    print(\"Un asteroide muy peligroso se dirige a la Tierra\")\n",
    "elif velocidad_ast>=20:\n",
    "    print(\"Una luz se puede ver en el cielo gracias a que se acerca un asteroide\")\n",
    "elif tamast<25:\n",
    "    print(\"Un asteroide se dirige a la Tierra, pero se este se quemara al entrar a la atmosfera \")\n",
    "else: \n",
    "    print(\"No hay asteroides cerca de la Tierra\")\n"
   ]
  }
 ],
 "metadata": {
  "interpreter": {
   "hash": "6c1ee9ac74f73b5fe5e7af38800fe73e2bfc50a0f3ce77c87a8b5d57d53615ec"
  },
  "kernelspec": {
   "display_name": "Python 3.10.2 64-bit",
   "language": "python",
   "name": "python3"
  },
  "language_info": {
   "codemirror_mode": {
    "name": "ipython",
    "version": 3
   },
   "file_extension": ".py",
   "mimetype": "text/x-python",
   "name": "python",
   "nbconvert_exporter": "python",
   "pygments_lexer": "ipython3",
   "version": "3.10.2"
  },
  "orig_nbformat": 4
 },
 "nbformat": 4,
 "nbformat_minor": 2
}
