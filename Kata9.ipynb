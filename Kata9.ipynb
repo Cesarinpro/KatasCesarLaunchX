{
 "cells": [
  {
   "cell_type": "markdown",
   "metadata": {},
   "source": [
    "### Ejercicio 1: Trabajar con argumentos en funciones"
   ]
  },
  {
   "cell_type": "code",
   "execution_count": 7,
   "metadata": {},
   "outputs": [
    {
     "name": "stdout",
     "output_type": "stream",
     "text": [
      "Informe \n",
      "    Combustible Promedio: 71.33333333333333\n",
      "    Tanque 1:50%\n",
      "    Tanque 2:75%\n",
      "    Tanque 3:89%\n",
      "Informe \n",
      "    Combustible Promedio: 45.333333333333336\n",
      "    Tanque 1:22%\n",
      "    Tanque 2:66%\n",
      "    Tanque 3:48%\n"
     ]
    }
   ],
   "source": [
    "def combustible (tanque1,tanque2,tanque3):\n",
    "    promedio=(tanque1+tanque2+tanque3)/3\n",
    "    return f\"\"\"Informe \n",
    "    Combustible Promedio: {promedio}\n",
    "    Tanque 1:{tanque1}%\n",
    "    Tanque 2:{tanque2}%\n",
    "    Tanque 3:{tanque3}%\"\"\"\n",
    "\n",
    "print(combustible(50,75,89),)\n",
    "\n",
    "def prom(*tanques):\n",
    "    return sum(tanques)/len(tanques)\n",
    "def combustible (tanque1,tanque2,tanque3):\n",
    "    return f\"\"\"Informe \n",
    "    Combustible Promedio: {prom(tanque1,tanque2,tanque3)}\n",
    "    Tanque 1:{tanque1}%\n",
    "    Tanque 2:{tanque2}%\n",
    "    Tanque 3:{tanque3}%\"\"\"\n",
    "\n",
    "print(combustible(22,66,48),)\n"
   ]
  },
  {
   "cell_type": "markdown",
   "metadata": {},
   "source": [
    "### Ejercicio 2: Trabajo con argumentos de palabra clave"
   ]
  },
  {
   "cell_type": "code",
   "execution_count": 17,
   "metadata": {},
   "outputs": [
    {
     "name": "stdout",
     "output_type": "stream",
     "text": [
      "Informe de la mision\n",
      "    Destino: Mars\n",
      "    Duracion: 80 min\n",
      "    Combustible total: 77%\n",
      "Informe de la mision\n",
      "    Destino: Mars\n",
      "    Duracion: 42 min\n",
      "    Combustible total: 78%\n",
      "Informe de la mision\n",
      "    Destino: Mars\n",
      "    Duracion: 42 min\n",
      "    Combustible total: 78%\n",
      "\tExterno: 56%\n",
      "\tInterno: 22%\n",
      "\t\n"
     ]
    }
   ],
   "source": [
    "def informe_mision(hora_lanz,tiempo_vuelo,destino,tanque_ex,tanque_int):\n",
    "    return f\"\"\"Informe de la mision\n",
    "    Destino: {destino}\n",
    "    Duracion: {hora_lanz+tiempo_vuelo} min\n",
    "    Combustible total: {tanque_ex+tanque_int}%\"\"\"\n",
    "print(informe_mision(20,60,'Mars',55,22))\n",
    "\n",
    "def informe_mision(destino,*tminutos,**combustible):\n",
    "    return f\"\"\"Informe de la mision\n",
    "    Destino: {destino}\n",
    "    Duracion: {sum(tminutos)} min\n",
    "    Combustible total: {sum(combustible.values())}%\"\"\"\n",
    "print(informe_mision('Mars',20,22,Externo=56,Interno=22))\n",
    "\n",
    "def informe_mision(destino,*tminutos,**combustible):\n",
    "    informe=f\"\"\"Informe de la mision\n",
    "    Destino: {destino}\n",
    "    Duracion: {sum(tminutos)} min\n",
    "    Combustible total: {sum(combustible.values())}%\\n\\t\"\"\"\n",
    "    for tanque,comb in combustible.items():\n",
    "        informe+=f\"{tanque}: {comb}%\\n\\t\"\n",
    "    return informe\n",
    "print(informe_mision('Mars',20,22,Externo=56,Interno=22))"
   ]
  }
 ],
 "metadata": {
  "interpreter": {
   "hash": "6c1ee9ac74f73b5fe5e7af38800fe73e2bfc50a0f3ce77c87a8b5d57d53615ec"
  },
  "kernelspec": {
   "display_name": "Python 3.10.2 64-bit",
   "language": "python",
   "name": "python3"
  },
  "language_info": {
   "codemirror_mode": {
    "name": "ipython",
    "version": 3
   },
   "file_extension": ".py",
   "mimetype": "text/x-python",
   "name": "python",
   "nbconvert_exporter": "python",
   "pygments_lexer": "ipython3",
   "version": "3.10.2"
  },
  "orig_nbformat": 4
 },
 "nbformat": 4,
 "nbformat_minor": 2
}
