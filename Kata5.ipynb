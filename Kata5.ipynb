{
 "cells": [
  {
   "cell_type": "markdown",
   "metadata": {},
   "source": [
    "### Ejercicio 1: Utilizando operadores en Phyton"
   ]
  },
  {
   "cell_type": "code",
   "execution_count": 4,
   "metadata": {},
   "outputs": [
    {
     "name": "stdout",
     "output_type": "stream",
     "text": [
      "La distancia entre los planetas es 390577533930 millas\n"
     ]
    }
   ],
   "source": [
    "Tierra=149597870\n",
    "Jupiter=778547200\n",
    "distancia=(Jupiter-Tierra)*621\n",
    "print(f'La distancia entre los planetas es {distancia} millas')"
   ]
  },
  {
   "cell_type": "markdown",
   "metadata": {},
   "source": [
    "### Ejercicio 2: Convierte cadenas en números y usa valores absolutos"
   ]
  },
  {
   "cell_type": "code",
   "execution_count": 5,
   "metadata": {},
   "outputs": [
    {
     "name": "stdout",
     "output_type": "stream",
     "text": [
      "Distancia entre los dos planetas: 50300000 mi\n"
     ]
    }
   ],
   "source": [
    "distancia1=input('Distancia del primer planeta al sol en km: ')\n",
    "distancia2=input('Distancia del segundo planeta al sol en km: ')\n",
    "distancia1=int(distancia1)\n",
    "distancia2=int(distancia2)\n",
    "dPlanetas=abs(distancia1-distancia2)\n",
    "print(f'Distancia entre los dos planetas: {dPlanetas} mi')"
   ]
  }
 ],
 "metadata": {
  "interpreter": {
   "hash": "6c1ee9ac74f73b5fe5e7af38800fe73e2bfc50a0f3ce77c87a8b5d57d53615ec"
  },
  "kernelspec": {
   "display_name": "Python 3.10.2 64-bit",
   "language": "python",
   "name": "python3"
  },
  "language_info": {
   "codemirror_mode": {
    "name": "ipython",
    "version": 3
   },
   "file_extension": ".py",
   "mimetype": "text/x-python",
   "name": "python",
   "nbconvert_exporter": "python",
   "pygments_lexer": "ipython3",
   "version": "3.10.2"
  },
  "orig_nbformat": 4
 },
 "nbformat": 4,
 "nbformat_minor": 2
}
