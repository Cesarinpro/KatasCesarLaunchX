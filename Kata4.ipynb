{
 "cells": [
  {
   "cell_type": "markdown",
   "metadata": {},
   "source": [
    "### Ejercicio 1: Transformar cadenas"
   ]
  },
  {
   "cell_type": "code",
   "execution_count": 23,
   "metadata": {},
   "outputs": [
    {
     "name": "stdout",
     "output_type": "stream",
     "text": [
      "La oracion que busca es:  \n",
      "On average, the Moon moves 4cm away from the Earth every year\n",
      " \n",
      "On average, the Moon moves 4cm away from the Earth every year\n"
     ]
    }
   ],
   "source": [
    "text = \"\"\"Interesting facts about the Moon. The Moon is Earth's only satellite. There are several interesting facts about the Moon and how it affects life here on Earth. \n",
    "On average, the Moon moves 4cm away from the Earth every year. This yearly drift is not significant enough to cause immediate effects on Earth. The highest dayl\"\"\"\n",
    "texto_separado=text.split('.')\n",
    "\n",
    "pclave= [\"average\", \"temperature\", \"distance\"]\n",
    "for esta in texto_separado:\n",
    "    for keyword in pclave:\n",
    "        if keyword in esta:\n",
    "            print('La oracion que busca es: %s' %esta)\n",
    "for esta in texto_separado:\n",
    "    for keyword in pclave:\n",
    "        if keyword in esta:\n",
    "            print(esta.replace('C','Celsius'))\n",
    "            break"
   ]
  },
  {
   "cell_type": "markdown",
   "metadata": {},
   "source": [
    "### Ejercicio 2 Formateando cadenas"
   ]
  },
  {
   "cell_type": "code",
   "execution_count": 29,
   "metadata": {},
   "outputs": [
    {
     "name": "stdout",
     "output_type": "stream",
     "text": [
      "Gravity Facts About Moon\n",
      "--------------------------------------------------------------------------------\n",
      "Planet Name: Moon\n",
      "Gravity on Moon: 1.6199999999999999 m/s^2\n",
      "Gravity Facts About Moon\n",
      "--------------------------------------------------------------------------------\n",
      "Planet Name: Moon\n",
      "Gravity on Moon: 1.6199999999999999 m/s^2\n",
      "\n",
      "Gravity Facts about Marte \n",
      "-------------------------------------------------------------------------------\n",
      "Planer Name: Earth\n",
      "Gravity on Marte : 1.4300000000000002 m/s^2\n"
     ]
    }
   ],
   "source": [
    "name = \"Moon\"\n",
    "gravity = 0.00162\n",
    "planet = \"Earth\"\n",
    "title=f'Gravity Facts about {name}'\n",
    "datos=f\"\"\"{'-'*80}\n",
    "Planet Name: {name}\n",
    "Gravity on {name}: {gravity*1000} m/s^2\"\"\" \n",
    "plantilla=f\"\"\"{title.title()}\n",
    "{datos}\"\"\"\n",
    "print(plantilla)\n",
    "name = 'Marte '\n",
    "gravity  = 0.00143\n",
    "title = 'Ganímedes'\n",
    "print(plantilla)\n",
    "nueva_plantilla=\"\"\"\n",
    "Gravity Facts about {name}\n",
    "-------------------------------------------------------------------------------\n",
    "Planer Name: {planet}\n",
    "Gravity on {name}: {gravity} m/s^2\"\"\"\n",
    "print(nueva_plantilla.format(name=name,planet=planet,gravity=gravity*1000))"
   ]
  }
 ],
 "metadata": {
  "interpreter": {
   "hash": "6c1ee9ac74f73b5fe5e7af38800fe73e2bfc50a0f3ce77c87a8b5d57d53615ec"
  },
  "kernelspec": {
   "display_name": "Python 3.10.2 64-bit",
   "language": "python",
   "name": "python3"
  },
  "language_info": {
   "codemirror_mode": {
    "name": "ipython",
    "version": 3
   },
   "file_extension": ".py",
   "mimetype": "text/x-python",
   "name": "python",
   "nbconvert_exporter": "python",
   "pygments_lexer": "ipython3",
   "version": "3.10.2"
  },
  "orig_nbformat": 4
 },
 "nbformat": 4,
 "nbformat_minor": 2
}
